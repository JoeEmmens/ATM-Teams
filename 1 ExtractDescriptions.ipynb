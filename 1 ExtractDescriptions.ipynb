{
 "cells": [
  {
   "cell_type": "code",
   "execution_count": 1,
   "id": "4c61121a",
   "metadata": {},
   "outputs": [],
   "source": [
    "import os\n",
    "import pandas as pd\n",
    "import pickle\n",
    "import numpy as np"
   ]
  },
  {
   "cell_type": "markdown",
   "id": "38599d90",
   "metadata": {},
   "source": [
    "Set the paths for your inputs and outputs"
   ]
  },
  {
   "cell_type": "code",
   "execution_count": 2,
   "id": "f8912a43",
   "metadata": {},
   "outputs": [],
   "source": [
    "inputs_path = \"C:/Users/Hannes/Documents/Joe/TeamsAndText/Inputs\"\n",
    "intermediate_outputs_path = \"C:/Users/Hannes/Documents/Joe/TeamsAndText/IntermediateOutputs\""
   ]
  },
  {
   "cell_type": "markdown",
   "id": "0a1375c2",
   "metadata": {},
   "source": [
    "Select the patent sample from the full set of patents awarded to US firms"
   ]
  },
  {
   "cell_type": "code",
   "execution_count": 10,
   "id": "c5c93eb3",
   "metadata": {},
   "outputs": [],
   "source": [
    "discern_data = pd.read_csv(f\"{inputs_path}/discern_patent_data.csv\", \n",
    "                          dtype={\"patent_number\":str})"
   ]
  },
  {
   "cell_type": "code",
   "execution_count": 11,
   "id": "9ff5e6e2",
   "metadata": {},
   "outputs": [],
   "source": [
    "final_dataframe = \"descriptions\"\n",
    "min_year = 1992\n",
    "max_year = 2012\n",
    "years = np.arange(min_year, max_year + 1)"
   ]
  },
  {
   "cell_type": "code",
   "execution_count": 12,
   "id": "060d61c5",
   "metadata": {},
   "outputs": [
    {
     "data": {
      "text/plain": [
       "876882"
      ]
     },
     "execution_count": 12,
     "metadata": {},
     "output_type": "execute_result"
    }
   ],
   "source": [
    "selected_pats = discern_data[(discern_data[\"publn_year\"] >= min_year) & (discern_data[\"publn_year\"] <= max_year)]\n",
    "selected_pats = set(selected_pats[\"patent_number\"])\n",
    "len(selected_pats)"
   ]
  },
  {
   "cell_type": "code",
   "execution_count": 13,
   "id": "cde1ca39",
   "metadata": {},
   "outputs": [
    {
     "name": "stdout",
     "output_type": "stream",
     "text": [
      "1992 22790\n",
      "1993 24028\n",
      "1994 25076\n",
      "1995 25395\n",
      "1996 28417\n",
      "1997 29267\n",
      "1998 38391\n",
      "1999 39758\n",
      "2000 41161\n",
      "2001 44033\n",
      "2002 44503\n",
      "2003 46193\n",
      "2004 46073\n",
      "2005 41452\n",
      "2006 50387\n",
      "2007 44349\n",
      "2008 44900\n",
      "2009 48107\n",
      "2010 61338\n",
      "2011 61862\n",
      "2012 69101\n"
     ]
    }
   ],
   "source": [
    "descriptions = pd.DataFrame(columns=[\"patent_id\", \"summary_text\"])\n",
    "for year in years:\n",
    "    descriptions_yr = pd.read_csv(f\"{inputs_path}/USPTO/g_brf_sum_text_{year}.tsv\", sep=\"\\t\",\n",
    "                            dtype={\"patent_id\":str})\n",
    "    descriptions_yr = descriptions_yr[descriptions_yr[\"patent_id\"].isin(selected_pats)]\n",
    "    descriptions = pd.concat([descriptions, descriptions_yr])\n",
    "    print(year, len(descriptions_yr))"
   ]
  },
  {
   "cell_type": "code",
   "execution_count": 14,
   "id": "e3c6685a",
   "metadata": {},
   "outputs": [
    {
     "data": {
      "text/html": [
       "<div>\n",
       "<style scoped>\n",
       "    .dataframe tbody tr th:only-of-type {\n",
       "        vertical-align: middle;\n",
       "    }\n",
       "\n",
       "    .dataframe tbody tr th {\n",
       "        vertical-align: top;\n",
       "    }\n",
       "\n",
       "    .dataframe thead th {\n",
       "        text-align: right;\n",
       "    }\n",
       "</style>\n",
       "<table border=\"1\" class=\"dataframe\">\n",
       "  <thead>\n",
       "    <tr style=\"text-align: right;\">\n",
       "      <th></th>\n",
       "      <th>patent_id</th>\n",
       "      <th>text</th>\n",
       "      <th>summary_text</th>\n",
       "    </tr>\n",
       "  </thead>\n",
       "  <tbody>\n",
       "    <tr>\n",
       "      <th>0</th>\n",
       "      <td>5132174</td>\n",
       "      <td>NaN</td>\n",
       "      <td>TECHNICAL FIELD \\nThis invention relates to fu...</td>\n",
       "    </tr>\n",
       "    <tr>\n",
       "      <th>1</th>\n",
       "      <td>5169843</td>\n",
       "      <td>NaN</td>\n",
       "      <td>BACKGROUND OF THE INVENTION \\n1. Field of Inve...</td>\n",
       "    </tr>\n",
       "    <tr>\n",
       "      <th>4</th>\n",
       "      <td>5129409</td>\n",
       "      <td>NaN</td>\n",
       "      <td>BACKGROUND OF THE INVENTION \\nThe present inve...</td>\n",
       "    </tr>\n",
       "    <tr>\n",
       "      <th>7</th>\n",
       "      <td>5128346</td>\n",
       "      <td>NaN</td>\n",
       "      <td>TECHNICAL FIELD \\nThis is a continuation-in-pa...</td>\n",
       "    </tr>\n",
       "    <tr>\n",
       "      <th>15</th>\n",
       "      <td>5101439</td>\n",
       "      <td>NaN</td>\n",
       "      <td>FIELD OF THE INVENTION \\nThis invention relate...</td>\n",
       "    </tr>\n",
       "  </tbody>\n",
       "</table>\n",
       "</div>"
      ],
      "text/plain": [
       "   patent_id text                                       summary_text\n",
       "0    5132174  NaN  TECHNICAL FIELD \\nThis invention relates to fu...\n",
       "1    5169843  NaN  BACKGROUND OF THE INVENTION \\n1. Field of Inve...\n",
       "4    5129409  NaN  BACKGROUND OF THE INVENTION \\nThe present inve...\n",
       "7    5128346  NaN  TECHNICAL FIELD \\nThis is a continuation-in-pa...\n",
       "15   5101439  NaN  FIELD OF THE INVENTION \\nThis invention relate..."
      ]
     },
     "execution_count": 14,
     "metadata": {},
     "output_type": "execute_result"
    }
   ],
   "source": [
    "descriptions.head()"
   ]
  },
  {
   "cell_type": "markdown",
   "id": "ca119aa5",
   "metadata": {},
   "source": [
    "Save the texts and selected patents"
   ]
  },
  {
   "cell_type": "code",
   "execution_count": null,
   "id": "9d5ded1b",
   "metadata": {},
   "outputs": [],
   "source": [
    "descriptions.to_csv(f\"{intermediate_outputs_path}/descriptions.csv\", index=False)"
   ]
  },
  {
   "cell_type": "code",
   "execution_count": 16,
   "id": "94708145",
   "metadata": {},
   "outputs": [],
   "source": [
    "pickle.dump(selected_pats, open(f\"{intermediate_outputs_path}/selected_patents.p\", \"wb\"))"
   ]
  }
 ],
 "metadata": {
  "kernelspec": {
   "display_name": "Python 3 (ipykernel)",
   "language": "python",
   "name": "python3"
  },
  "language_info": {
   "codemirror_mode": {
    "name": "ipython",
    "version": 3
   },
   "file_extension": ".py",
   "mimetype": "text/x-python",
   "name": "python",
   "nbconvert_exporter": "python",
   "pygments_lexer": "ipython3",
   "version": "3.9.7"
  }
 },
 "nbformat": 4,
 "nbformat_minor": 5
}
