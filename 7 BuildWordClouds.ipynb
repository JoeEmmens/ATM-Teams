{
 "cells": [
  {
   "cell_type": "code",
   "execution_count": 1,
   "metadata": {
    "pycharm": {
     "name": "#%%\n"
    }
   },
   "outputs": [],
   "source": [
    "from wordcloud import WordCloud\n",
    "import pandas as pd\n",
    "import pickle"
   ]
  },
  {
   "cell_type": "code",
   "execution_count": 2,
   "metadata": {},
   "outputs": [],
   "source": [
    "intermediate_outputs_path = \"C:/Users/Hannes/Documents/Joe/TeamsAndText/IntermediateOutputs\"\n",
    "results_path = \"C:/Users/Hannes/Documents/Joe/TeamsAndText/Results\""
   ]
  },
  {
   "cell_type": "code",
   "execution_count": 3,
   "metadata": {
    "pycharm": {
     "name": "#%%\n"
    }
   },
   "outputs": [
    {
     "data": {
      "text/html": [
       "<div>\n",
       "<style scoped>\n",
       "    .dataframe tbody tr th:only-of-type {\n",
       "        vertical-align: middle;\n",
       "    }\n",
       "\n",
       "    .dataframe tbody tr th {\n",
       "        vertical-align: top;\n",
       "    }\n",
       "\n",
       "    .dataframe thead th {\n",
       "        text-align: right;\n",
       "    }\n",
       "</style>\n",
       "<table border=\"1\" class=\"dataframe\">\n",
       "  <thead>\n",
       "    <tr style=\"text-align: right;\">\n",
       "      <th></th>\n",
       "      <th>0</th>\n",
       "      <th>1</th>\n",
       "      <th>2</th>\n",
       "      <th>3</th>\n",
       "      <th>4</th>\n",
       "      <th>5</th>\n",
       "      <th>6</th>\n",
       "      <th>7</th>\n",
       "      <th>8</th>\n",
       "      <th>9</th>\n",
       "      <th>10</th>\n",
       "      <th>11</th>\n",
       "      <th>12</th>\n",
       "      <th>13</th>\n",
       "      <th>14</th>\n",
       "      <th>15</th>\n",
       "      <th>16</th>\n",
       "      <th>17</th>\n",
       "      <th>18</th>\n",
       "      <th>19</th>\n",
       "    </tr>\n",
       "  </thead>\n",
       "  <tbody>\n",
       "    <tr>\n",
       "      <th>accompani</th>\n",
       "      <td>0.000311</td>\n",
       "      <td>0.000414</td>\n",
       "      <td>0.000284</td>\n",
       "      <td>0.000061</td>\n",
       "      <td>0.000559</td>\n",
       "      <td>0.000089</td>\n",
       "      <td>0.000262</td>\n",
       "      <td>6.493825e-06</td>\n",
       "      <td>6.789967e-06</td>\n",
       "      <td>0.000161</td>\n",
       "      <td>0.000252</td>\n",
       "      <td>0.000478</td>\n",
       "      <td>1.279571e-06</td>\n",
       "      <td>0.000230</td>\n",
       "      <td>1.206109e-04</td>\n",
       "      <td>0.000377</td>\n",
       "      <td>0.000024</td>\n",
       "      <td>0.000266</td>\n",
       "      <td>2.740588e-04</td>\n",
       "      <td>0.000409</td>\n",
       "    </tr>\n",
       "    <tr>\n",
       "      <th>across</th>\n",
       "      <td>0.000583</td>\n",
       "      <td>0.000243</td>\n",
       "      <td>0.000350</td>\n",
       "      <td>0.000380</td>\n",
       "      <td>0.000282</td>\n",
       "      <td>0.000097</td>\n",
       "      <td>0.000525</td>\n",
       "      <td>1.058656e-06</td>\n",
       "      <td>3.830372e-07</td>\n",
       "      <td>0.000107</td>\n",
       "      <td>0.000874</td>\n",
       "      <td>0.000197</td>\n",
       "      <td>7.580747e-06</td>\n",
       "      <td>0.000358</td>\n",
       "      <td>3.662880e-05</td>\n",
       "      <td>0.000309</td>\n",
       "      <td>0.000016</td>\n",
       "      <td>0.000593</td>\n",
       "      <td>5.462903e-04</td>\n",
       "      <td>0.001065</td>\n",
       "    </tr>\n",
       "    <tr>\n",
       "      <th>addit</th>\n",
       "      <td>0.001914</td>\n",
       "      <td>0.001725</td>\n",
       "      <td>0.001833</td>\n",
       "      <td>0.002396</td>\n",
       "      <td>0.002391</td>\n",
       "      <td>0.003048</td>\n",
       "      <td>0.001189</td>\n",
       "      <td>2.901823e-03</td>\n",
       "      <td>6.176150e-03</td>\n",
       "      <td>0.003283</td>\n",
       "      <td>0.001628</td>\n",
       "      <td>0.001125</td>\n",
       "      <td>6.194799e-04</td>\n",
       "      <td>0.003710</td>\n",
       "      <td>2.619822e-03</td>\n",
       "      <td>0.001789</td>\n",
       "      <td>0.004053</td>\n",
       "      <td>0.001590</td>\n",
       "      <td>1.510052e-03</td>\n",
       "      <td>0.001421</td>\n",
       "    </tr>\n",
       "    <tr>\n",
       "      <th>adequ</th>\n",
       "      <td>0.000071</td>\n",
       "      <td>0.000082</td>\n",
       "      <td>0.000013</td>\n",
       "      <td>0.000079</td>\n",
       "      <td>0.000166</td>\n",
       "      <td>0.000090</td>\n",
       "      <td>0.000046</td>\n",
       "      <td>1.829550e-07</td>\n",
       "      <td>7.527786e-05</td>\n",
       "      <td>0.000209</td>\n",
       "      <td>0.000061</td>\n",
       "      <td>0.000064</td>\n",
       "      <td>4.617284e-08</td>\n",
       "      <td>0.000259</td>\n",
       "      <td>3.590656e-05</td>\n",
       "      <td>0.000349</td>\n",
       "      <td>0.000194</td>\n",
       "      <td>0.000159</td>\n",
       "      <td>3.864587e-05</td>\n",
       "      <td>0.000077</td>\n",
       "    </tr>\n",
       "    <tr>\n",
       "      <th>adjac</th>\n",
       "      <td>0.002547</td>\n",
       "      <td>0.000157</td>\n",
       "      <td>0.000007</td>\n",
       "      <td>0.000227</td>\n",
       "      <td>0.000902</td>\n",
       "      <td>0.000006</td>\n",
       "      <td>0.000332</td>\n",
       "      <td>3.365704e-04</td>\n",
       "      <td>2.730332e-07</td>\n",
       "      <td>0.000025</td>\n",
       "      <td>0.001969</td>\n",
       "      <td>0.001492</td>\n",
       "      <td>8.101947e-07</td>\n",
       "      <td>0.000183</td>\n",
       "      <td>1.499575e-07</td>\n",
       "      <td>0.000808</td>\n",
       "      <td>0.000005</td>\n",
       "      <td>0.000549</td>\n",
       "      <td>7.260879e-10</td>\n",
       "      <td>0.000101</td>\n",
       "    </tr>\n",
       "  </tbody>\n",
       "</table>\n",
       "</div>"
      ],
      "text/plain": [
       "                  0         1         2         3         4         5  \\\n",
       "accompani  0.000311  0.000414  0.000284  0.000061  0.000559  0.000089   \n",
       "across     0.000583  0.000243  0.000350  0.000380  0.000282  0.000097   \n",
       "addit      0.001914  0.001725  0.001833  0.002396  0.002391  0.003048   \n",
       "adequ      0.000071  0.000082  0.000013  0.000079  0.000166  0.000090   \n",
       "adjac      0.002547  0.000157  0.000007  0.000227  0.000902  0.000006   \n",
       "\n",
       "                  6             7             8         9        10        11  \\\n",
       "accompani  0.000262  6.493825e-06  6.789967e-06  0.000161  0.000252  0.000478   \n",
       "across     0.000525  1.058656e-06  3.830372e-07  0.000107  0.000874  0.000197   \n",
       "addit      0.001189  2.901823e-03  6.176150e-03  0.003283  0.001628  0.001125   \n",
       "adequ      0.000046  1.829550e-07  7.527786e-05  0.000209  0.000061  0.000064   \n",
       "adjac      0.000332  3.365704e-04  2.730332e-07  0.000025  0.001969  0.001492   \n",
       "\n",
       "                     12        13            14        15        16        17  \\\n",
       "accompani  1.279571e-06  0.000230  1.206109e-04  0.000377  0.000024  0.000266   \n",
       "across     7.580747e-06  0.000358  3.662880e-05  0.000309  0.000016  0.000593   \n",
       "addit      6.194799e-04  0.003710  2.619822e-03  0.001789  0.004053  0.001590   \n",
       "adequ      4.617284e-08  0.000259  3.590656e-05  0.000349  0.000194  0.000159   \n",
       "adjac      8.101947e-07  0.000183  1.499575e-07  0.000808  0.000005  0.000549   \n",
       "\n",
       "                     18        19  \n",
       "accompani  2.740588e-04  0.000409  \n",
       "across     5.462903e-04  0.001065  \n",
       "addit      1.510052e-03  0.001421  \n",
       "adequ      3.864587e-05  0.000077  \n",
       "adjac      7.260879e-10  0.000101  "
      ]
     },
     "execution_count": 3,
     "metadata": {},
     "output_type": "execute_result"
    }
   ],
   "source": [
    "id2word = pickle.load(open(f\"{intermediate_outputs_path}/id2word.p\", \"rb\"))\n",
    "phi = pd.read_csv(f\"{results_path}/topic_distributions.csv\")\n",
    "phi.drop(columns=\"Unnamed: 0\", inplace=True)\n",
    "phi.rename(index=id2word, inplace=True)\n",
    "phi.head()"
   ]
  },
  {
   "cell_type": "code",
   "execution_count": 4,
   "metadata": {
    "pycharm": {
     "name": "#%%\n"
    }
   },
   "outputs": [],
   "source": [
    "num_topics = 20"
   ]
  },
  {
   "cell_type": "code",
   "execution_count": 5,
   "metadata": {
    "pycharm": {
     "name": "#%%\n"
    }
   },
   "outputs": [],
   "source": [
    "for i in range(0, num_topics):\n",
    "    wc = WordCloud(background_color=\"white\", width = 300, height=300, margin=2)\n",
    "    # generate word cloud\n",
    "    wc.generate_from_frequencies(phi[str(i)])\n",
    "    wc.to_file(f\"{results_path}/wc_{i}.png\")"
   ]
  },
  {
   "cell_type": "code",
   "execution_count": null,
   "metadata": {},
   "outputs": [],
   "source": []
  }
 ],
 "metadata": {
  "kernelspec": {
   "display_name": "Python 3 (ipykernel)",
   "language": "python",
   "name": "python3"
  },
  "language_info": {
   "codemirror_mode": {
    "name": "ipython",
    "version": 3
   },
   "file_extension": ".py",
   "mimetype": "text/x-python",
   "name": "python",
   "nbconvert_exporter": "python",
   "pygments_lexer": "ipython3",
   "version": "3.9.7"
  }
 },
 "nbformat": 4,
 "nbformat_minor": 1
}
