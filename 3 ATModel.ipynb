{
 "cells": [
  {
   "cell_type": "markdown",
   "id": "1ea33b00",
   "metadata": {},
   "source": [
    "<h2> Estimate the Author-Topic Model </h2>"
   ]
  },
  {
   "cell_type": "code",
   "execution_count": 1,
   "id": "0b656ebd",
   "metadata": {},
   "outputs": [],
   "source": [
    "import gzip\n",
    "import json\n",
    "import pickle\n",
    "import pandas as pd\n",
    "import numpy as np\n",
    "\n",
    "from gensim import corpora\n",
    "from gensim.models import AuthorTopicModel\n",
    "\n",
    "from tqdm import tqdm\n",
    "\n",
    "from gensim.matutils import dirichlet_expectation\n",
    "from gensim.test.utils import datapath\n",
    "import logging\n",
    "\n",
    "import re\n",
    "\n",
    "import matplotlib.pyplot as plt\n",
    "import seaborn as sns\n",
    "plt.rcParams[\"axes.facecolor\"] = \"white\"\n",
    "plt.rcParams[\"savefig.facecolor\"] = \"white\""
   ]
  },
  {
   "cell_type": "code",
   "execution_count": 2,
   "id": "c1ef8298",
   "metadata": {},
   "outputs": [],
   "source": [
    "inputs_path = \"C:/Users/Hannes/Documents/Joe/TeamsAndText/Inputs\"\n",
    "intermediate_outputs_path = \"C:/Users/Hannes/Documents/Joe/TeamsAndText/IntermediateOutputs\"\n",
    "results_path = \"C:/Users/Hannes/Documents/Joe/TeamsAndText/Results\""
   ]
  },
  {
   "cell_type": "code",
   "execution_count": 3,
   "id": "a47f68fe",
   "metadata": {},
   "outputs": [],
   "source": [
    "logging.basicConfig(filename=f'{results_path}/atmodel_log.log',\n",
    "                    format=\"%(asctime)s:%(levelname)s:%(message)s\",\n",
    "                    level=logging.INFO)\n",
    "logging.info('Creating new log file.')"
   ]
  },
  {
   "cell_type": "code",
   "execution_count": 4,
   "id": "942f913d",
   "metadata": {},
   "outputs": [],
   "source": [
    "with gzip.open(f\"{intermediate_outputs_path}/corpus.json.gz\", 'r') as fin:  \n",
    "    json_bytes = fin.read()                     \n",
    "\n",
    "json_str = json_bytes.decode('utf-8')            \n",
    "corpus = json.loads(json_str)  "
   ]
  },
  {
   "cell_type": "code",
   "execution_count": 5,
   "id": "3298a416",
   "metadata": {},
   "outputs": [
    {
     "name": "stdout",
     "output_type": "stream",
     "text": [
      "332780\n"
     ]
    }
   ],
   "source": [
    "dictionary = pickle.load(open(f\"{intermediate_outputs_path}/id2word.p\", \"rb\")) \n",
    "doc2inv = pickle.load(open(f\"{intermediate_outputs_path}/doc2inv.p\", \"rb\"))\n",
    "inv2doc = pickle.load(open(f\"{intermediate_outputs_path}/inv2doc.p\", \"rb\"))\n",
    "print(len(dictionary))"
   ]
  },
  {
   "cell_type": "code",
   "execution_count": 6,
   "id": "6be433b1",
   "metadata": {},
   "outputs": [
    {
     "name": "stdout",
     "output_type": "stream",
     "text": [
      "Wall time: 2h 20min 15s\n"
     ]
    }
   ],
   "source": [
    "%%time\n",
    "num_topics = 40\n",
    "num_iters = 3000\n",
    "model = AuthorTopicModel(corpus, id2word=dictionary, author2doc=inv2doc, doc2author=doc2inv,\n",
    "                         num_topics=num_topics, iterations=num_iters, random_state=1234, \n",
    "                         alpha=1/num_topics, eta=1/num_topics,\n",
    "                         gamma_threshold=0.0001, eval_every=1, passes=1) "
   ]
  },
  {
   "cell_type": "code",
   "execution_count": 7,
   "id": "258803b9",
   "metadata": {},
   "outputs": [],
   "source": [
    "temp_file = datapath(f\"{intermediate_outputs_path}/model\")\n",
    "model.save(temp_file)"
   ]
  },
  {
   "cell_type": "code",
   "execution_count": 8,
   "id": "c1047487",
   "metadata": {},
   "outputs": [],
   "source": [
    "gamma = model.state.gamma\n",
    "np.save(f\"{intermediate_outputs_path}/model.state.gamma.npy\", gamma)"
   ]
  },
  {
   "cell_type": "code",
   "execution_count": 16,
   "id": "081ed617",
   "metadata": {},
   "outputs": [
    {
     "data": {
      "image/png": "[encoded data removed]",
      "text/plain": [
       "<Figure size 432x288 with 1 Axes>"
      ]
     },
     "metadata": {
      "needs_background": "light"
     },
     "output_type": "display_data"
    }
   ],
   "source": [
    "p = re.compile(\"(-*\\d+\\.\\d+) per-word .* (\\d+\\.\\d+) perplexity\")\n",
    "matches = [p.findall(l) for l in open(f'{results_path}/atmodel_log.log')]\n",
    "matches = [m for m in matches if len(m) > 0]\n",
    "tuples = [t[0] for t in matches]\n",
    "perplexity = [float(t[1]) for t in tuples]\n",
    "likelihood = [float(t[0]) for t in tuples]\n",
    "iteration = list(range(len(likelihood)))\n",
    "plt.plot(iteration, likelihood, c=\"black\")\n",
    "plt.ylabel(\"Log Likelihood\")\n",
    "plt.title(\"Model Convergence\")\n",
    "plt.grid()\n",
    "plt.tight_layout()\n",
    "plt.savefig(f\"{results_path}/likelihood_convergence.png\", dpi=300)\n",
    "#pickle.dump(liklihood, open(f\"{results_path}/likelihood\".p\", \"wb\"))"
   ]
  },
  {
   "cell_type": "code",
   "execution_count": 12,
   "id": "ca0ba5ea",
   "metadata": {},
   "outputs": [
    {
     "data": {
      "text/plain": [
       "439"
      ]
     },
     "execution_count": 12,
     "metadata": {},
     "output_type": "execute_result"
    }
   ],
   "source": []
  },
  {
   "cell_type": "code",
   "execution_count": 10,
   "id": "24ef76e7",
   "metadata": {},
   "outputs": [
    {
     "name": "stdout",
     "output_type": "stream",
     "text": [
      "549961\n"
     ]
    }
   ],
   "source": [
    "inv2id = {inv:id_i for id_i, inv in model.id2author.items()}\n",
    "author_dists = {author : model.get_author_topics(author) for author in model.id2author.values()}\n",
    "print(len(author_dists))"
   ]
  },
  {
   "cell_type": "code",
   "execution_count": 11,
   "id": "7560916a",
   "metadata": {},
   "outputs": [
    {
     "name": "stderr",
     "output_type": "stream",
     "text": [
      "100%|████████████████████████████████████████████████████████████████████████| 549961/549961 [01:13<00:00, 7471.15it/s]\n"
     ]
    },
    {
     "data": {
      "text/html": [
       "<div>\n",
       "<style scoped>\n",
       "    .dataframe tbody tr th:only-of-type {\n",
       "        vertical-align: middle;\n",
       "    }\n",
       "\n",
       "    .dataframe tbody tr th {\n",
       "        vertical-align: top;\n",
       "    }\n",
       "\n",
       "    .dataframe thead th {\n",
       "        text-align: right;\n",
       "    }\n",
       "</style>\n",
       "<table border=\"1\" class=\"dataframe\">\n",
       "  <thead>\n",
       "    <tr style=\"text-align: right;\">\n",
       "      <th></th>\n",
       "      <th>0</th>\n",
       "      <th>1</th>\n",
       "      <th>2</th>\n",
       "      <th>3</th>\n",
       "      <th>4</th>\n",
       "      <th>5</th>\n",
       "      <th>6</th>\n",
       "      <th>7</th>\n",
       "      <th>8</th>\n",
       "      <th>9</th>\n",
       "      <th>...</th>\n",
       "      <th>30</th>\n",
       "      <th>31</th>\n",
       "      <th>32</th>\n",
       "      <th>33</th>\n",
       "      <th>34</th>\n",
       "      <th>35</th>\n",
       "      <th>36</th>\n",
       "      <th>37</th>\n",
       "      <th>38</th>\n",
       "      <th>39</th>\n",
       "    </tr>\n",
       "    <tr>\n",
       "      <th>inventor_id</th>\n",
       "      <th></th>\n",
       "      <th></th>\n",
       "      <th></th>\n",
       "      <th></th>\n",
       "      <th></th>\n",
       "      <th></th>\n",
       "      <th></th>\n",
       "      <th></th>\n",
       "      <th></th>\n",
       "      <th></th>\n",
       "      <th></th>\n",
       "      <th></th>\n",
       "      <th></th>\n",
       "      <th></th>\n",
       "      <th></th>\n",
       "      <th></th>\n",
       "      <th></th>\n",
       "      <th></th>\n",
       "      <th></th>\n",
       "      <th></th>\n",
       "      <th></th>\n",
       "    </tr>\n",
       "  </thead>\n",
       "  <tbody>\n",
       "    <tr>\n",
       "      <th>000f0k6brgval6kr9agzjlgcg</th>\n",
       "      <td>0.016956</td>\n",
       "      <td>0.042798</td>\n",
       "      <td>0.015044</td>\n",
       "      <td>0.013951</td>\n",
       "      <td>0.014559</td>\n",
       "      <td>0.018352</td>\n",
       "      <td>0.023496</td>\n",
       "      <td>0.011593</td>\n",
       "      <td>0.011717</td>\n",
       "      <td>0.018386</td>\n",
       "      <td>...</td>\n",
       "      <td>0.015942</td>\n",
       "      <td>0.021603</td>\n",
       "      <td>0.013660</td>\n",
       "      <td>0.018266</td>\n",
       "      <td>0.015176</td>\n",
       "      <td>0.019915</td>\n",
       "      <td>0.013195</td>\n",
       "      <td>0.066268</td>\n",
       "      <td>0.018848</td>\n",
       "      <td>0.024234</td>\n",
       "    </tr>\n",
       "    <tr>\n",
       "      <th>000s9qy0x4l3x4n99bv2a1qn4</th>\n",
       "      <td>0.018542</td>\n",
       "      <td>0.019366</td>\n",
       "      <td>0.022040</td>\n",
       "      <td>0.023650</td>\n",
       "      <td>0.023521</td>\n",
       "      <td>0.027166</td>\n",
       "      <td>0.017240</td>\n",
       "      <td>0.023586</td>\n",
       "      <td>0.055780</td>\n",
       "      <td>0.044352</td>\n",
       "      <td>...</td>\n",
       "      <td>0.026350</td>\n",
       "      <td>0.024584</td>\n",
       "      <td>0.017321</td>\n",
       "      <td>0.026975</td>\n",
       "      <td>0.015852</td>\n",
       "      <td>0.050196</td>\n",
       "      <td>0.015814</td>\n",
       "      <td>0.019539</td>\n",
       "      <td>0.017876</td>\n",
       "      <td>0.022065</td>\n",
       "    </tr>\n",
       "    <tr>\n",
       "      <th>003gl0pmpob62w5yf9j8xw1c8</th>\n",
       "      <td>0.012075</td>\n",
       "      <td>0.011243</td>\n",
       "      <td>0.014458</td>\n",
       "      <td>0.000000</td>\n",
       "      <td>0.014285</td>\n",
       "      <td>0.013574</td>\n",
       "      <td>0.127460</td>\n",
       "      <td>0.000000</td>\n",
       "      <td>0.000000</td>\n",
       "      <td>0.022933</td>\n",
       "      <td>...</td>\n",
       "      <td>0.013109</td>\n",
       "      <td>0.075652</td>\n",
       "      <td>0.000000</td>\n",
       "      <td>0.018183</td>\n",
       "      <td>0.000000</td>\n",
       "      <td>0.016722</td>\n",
       "      <td>0.014032</td>\n",
       "      <td>0.026548</td>\n",
       "      <td>0.000000</td>\n",
       "      <td>0.015068</td>\n",
       "    </tr>\n",
       "    <tr>\n",
       "      <th>003ibk308p0r5efhppfnkpghy</th>\n",
       "      <td>0.024445</td>\n",
       "      <td>0.020086</td>\n",
       "      <td>0.029494</td>\n",
       "      <td>0.079976</td>\n",
       "      <td>0.019388</td>\n",
       "      <td>0.021980</td>\n",
       "      <td>0.018782</td>\n",
       "      <td>0.018928</td>\n",
       "      <td>0.015187</td>\n",
       "      <td>0.015981</td>\n",
       "      <td>...</td>\n",
       "      <td>0.030111</td>\n",
       "      <td>0.024274</td>\n",
       "      <td>0.021008</td>\n",
       "      <td>0.021286</td>\n",
       "      <td>0.053234</td>\n",
       "      <td>0.020567</td>\n",
       "      <td>0.020010</td>\n",
       "      <td>0.023351</td>\n",
       "      <td>0.023047</td>\n",
       "      <td>0.040818</td>\n",
       "    </tr>\n",
       "    <tr>\n",
       "      <th>004sxraydhup13ce43vyj61p1</th>\n",
       "      <td>0.000000</td>\n",
       "      <td>0.000000</td>\n",
       "      <td>0.000000</td>\n",
       "      <td>0.720470</td>\n",
       "      <td>0.000000</td>\n",
       "      <td>0.000000</td>\n",
       "      <td>0.000000</td>\n",
       "      <td>0.000000</td>\n",
       "      <td>0.000000</td>\n",
       "      <td>0.000000</td>\n",
       "      <td>...</td>\n",
       "      <td>0.000000</td>\n",
       "      <td>0.000000</td>\n",
       "      <td>0.000000</td>\n",
       "      <td>0.000000</td>\n",
       "      <td>0.000000</td>\n",
       "      <td>0.000000</td>\n",
       "      <td>0.000000</td>\n",
       "      <td>0.000000</td>\n",
       "      <td>0.000000</td>\n",
       "      <td>0.022669</td>\n",
       "    </tr>\n",
       "  </tbody>\n",
       "</table>\n",
       "<p>5 rows × 40 columns</p>\n",
       "</div>"
      ],
      "text/plain": [
       "                                 0         1         2         3         4   \\\n",
       "inventor_id                                                                   \n",
       "000f0k6brgval6kr9agzjlgcg  0.016956  0.042798  0.015044  0.013951  0.014559   \n",
       "000s9qy0x4l3x4n99bv2a1qn4  0.018542  0.019366  0.022040  0.023650  0.023521   \n",
       "003gl0pmpob62w5yf9j8xw1c8  0.012075  0.011243  0.014458  0.000000  0.014285   \n",
       "003ibk308p0r5efhppfnkpghy  0.024445  0.020086  0.029494  0.079976  0.019388   \n",
       "004sxraydhup13ce43vyj61p1  0.000000  0.000000  0.000000  0.720470  0.000000   \n",
       "\n",
       "                                 5         6         7         8         9   \\\n",
       "inventor_id                                                                   \n",
       "000f0k6brgval6kr9agzjlgcg  0.018352  0.023496  0.011593  0.011717  0.018386   \n",
       "000s9qy0x4l3x4n99bv2a1qn4  0.027166  0.017240  0.023586  0.055780  0.044352   \n",
       "003gl0pmpob62w5yf9j8xw1c8  0.013574  0.127460  0.000000  0.000000  0.022933   \n",
       "003ibk308p0r5efhppfnkpghy  0.021980  0.018782  0.018928  0.015187  0.015981   \n",
       "004sxraydhup13ce43vyj61p1  0.000000  0.000000  0.000000  0.000000  0.000000   \n",
       "\n",
       "                           ...        30        31        32        33  \\\n",
       "inventor_id                ...                                           \n",
       "000f0k6brgval6kr9agzjlgcg  ...  0.015942  0.021603  0.013660  0.018266   \n",
       "000s9qy0x4l3x4n99bv2a1qn4  ...  0.026350  0.024584  0.017321  0.026975   \n",
       "003gl0pmpob62w5yf9j8xw1c8  ...  0.013109  0.075652  0.000000  0.018183   \n",
       "003ibk308p0r5efhppfnkpghy  ...  0.030111  0.024274  0.021008  0.021286   \n",
       "004sxraydhup13ce43vyj61p1  ...  0.000000  0.000000  0.000000  0.000000   \n",
       "\n",
       "                                 34        35        36        37        38  \\\n",
       "inventor_id                                                                   \n",
       "000f0k6brgval6kr9agzjlgcg  0.015176  0.019915  0.013195  0.066268  0.018848   \n",
       "000s9qy0x4l3x4n99bv2a1qn4  0.015852  0.050196  0.015814  0.019539  0.017876   \n",
       "003gl0pmpob62w5yf9j8xw1c8  0.000000  0.016722  0.014032  0.026548  0.000000   \n",
       "003ibk308p0r5efhppfnkpghy  0.053234  0.020567  0.020010  0.023351  0.023047   \n",
       "004sxraydhup13ce43vyj61p1  0.000000  0.000000  0.000000  0.000000  0.000000   \n",
       "\n",
       "                                 39  \n",
       "inventor_id                          \n",
       "000f0k6brgval6kr9agzjlgcg  0.024234  \n",
       "000s9qy0x4l3x4n99bv2a1qn4  0.022065  \n",
       "003gl0pmpob62w5yf9j8xw1c8  0.015068  \n",
       "003ibk308p0r5efhppfnkpghy  0.040818  \n",
       "004sxraydhup13ce43vyj61p1  0.022669  \n",
       "\n",
       "[5 rows x 40 columns]"
      ]
     },
     "execution_count": 11,
     "metadata": {},
     "output_type": "execute_result"
    }
   ],
   "source": [
    "author_dists_matched = pd.DataFrame(columns=np.arange(num_topics))\n",
    "author_dists_matched[\"inventor_id\"] = author_dists.keys()\n",
    "for num_id, inv_dist in enumerate(tqdm(author_dists.values())):\n",
    "    for topic, weight in inv_dist:\n",
    "        author_dists_matched.at[num_id, topic] = weight\n",
    "author_dists_matched.set_index(\"inventor_id\", inplace=True)\n",
    "author_dists_matched = author_dists_matched.fillna(0)\n",
    "author_dists_matched = author_dists_matched.div(author_dists_matched.sum(axis=1), axis=0)\n",
    "author_dists_matched.head()"
   ]
  },
  {
   "cell_type": "code",
   "execution_count": 12,
   "id": "ca242796",
   "metadata": {},
   "outputs": [
    {
     "data": {
      "text/plain": [
       "0     0.000000\n",
       "1     0.000000\n",
       "2     0.000000\n",
       "3     0.000000\n",
       "4     0.000000\n",
       "5     0.000000\n",
       "6     0.000000\n",
       "7     0.000000\n",
       "8     0.000000\n",
       "9     0.000000\n",
       "10    0.000000\n",
       "11    0.000000\n",
       "12    0.000000\n",
       "13    0.000000\n",
       "14    0.000000\n",
       "15    0.000000\n",
       "16    0.000000\n",
       "17    0.000000\n",
       "18    0.000000\n",
       "19    0.000000\n",
       "20    0.000000\n",
       "21    0.000000\n",
       "22    0.000000\n",
       "23    0.000000\n",
       "24    0.000000\n",
       "25    0.000000\n",
       "26    0.000000\n",
       "27    0.000000\n",
       "28    0.000000\n",
       "29    0.000000\n",
       "30    0.000000\n",
       "31    0.000000\n",
       "32    0.000000\n",
       "33    0.941641\n",
       "34    0.000000\n",
       "35    0.000000\n",
       "36    0.000000\n",
       "37    0.000000\n",
       "38    0.000000\n",
       "39    0.058359\n",
       "Name: fl:jo_ln:olsen-12, dtype: float64"
      ]
     },
     "execution_count": 12,
     "metadata": {},
     "output_type": "execute_result"
    }
   ],
   "source": [
    "# Check if these change a lot over different run and parameter values\n",
    "yes = \"fl:jo_ln:olsen-12\"\n",
    "no = \"fl:ha_ln:moody-6\"\n",
    "author_dists_matched.loc[yes]"
   ]
  },
  {
   "cell_type": "code",
   "execution_count": 13,
   "id": "086a8a9b",
   "metadata": {},
   "outputs": [
    {
     "data": {
      "text/plain": [
       "0     0.000000\n",
       "1     0.000000\n",
       "2     0.000000\n",
       "3     0.000000\n",
       "4     0.000000\n",
       "5     0.000000\n",
       "6     0.000000\n",
       "7     0.000000\n",
       "8     0.000000\n",
       "9     0.000000\n",
       "10    0.000000\n",
       "11    0.000000\n",
       "12    0.000000\n",
       "13    0.000000\n",
       "14    0.000000\n",
       "15    0.233885\n",
       "16    0.000000\n",
       "17    0.000000\n",
       "18    0.576842\n",
       "19    0.000000\n",
       "20    0.000000\n",
       "21    0.000000\n",
       "22    0.000000\n",
       "23    0.000000\n",
       "24    0.189273\n",
       "25    0.000000\n",
       "26    0.000000\n",
       "27    0.000000\n",
       "28    0.000000\n",
       "29    0.000000\n",
       "30    0.000000\n",
       "31    0.000000\n",
       "32    0.000000\n",
       "33    0.000000\n",
       "34    0.000000\n",
       "35    0.000000\n",
       "36    0.000000\n",
       "37    0.000000\n",
       "38    0.000000\n",
       "39    0.000000\n",
       "Name: fl:ha_ln:moody-6, dtype: float64"
      ]
     },
     "execution_count": 13,
     "metadata": {},
     "output_type": "execute_result"
    }
   ],
   "source": [
    "author_dists_matched.loc[no]"
   ]
  },
  {
   "cell_type": "code",
   "execution_count": 14,
   "id": "aa1417b8",
   "metadata": {},
   "outputs": [],
   "source": [
    "center = np.array([1/num_topics]*num_topics)\n",
    "inventor_distance_center = dict.fromkeys(author_dists_matched.index)\n",
    "for inv in author_dists_matched.index:\n",
    "    d_center = np.linalg.norm(author_dists_matched.loc[inv] - center)\n",
    "    inventor_distance_center[inv] = d_center"
   ]
  },
  {
   "cell_type": "code",
   "execution_count": 15,
   "id": "c6349e9f",
   "metadata": {},
   "outputs": [
    {
     "data": {
      "image/png": "[encoded data removed]",
      "text/plain": [
       "<Figure size 432x288 with 1 Axes>"
      ]
     },
     "metadata": {
      "needs_background": "light"
     },
     "output_type": "display_data"
    }
   ],
   "source": [
    "fig, ax = plt.subplots()\n",
    "sns.histplot(inventor_distance_center.values(), ax=ax)\n",
    "plt.savefig(f\"{results_path}/inventor_distance_hist.png\", dpi=300)"
   ]
  },
  {
   "cell_type": "code",
   "execution_count": 16,
   "id": "f904d59b",
   "metadata": {},
   "outputs": [
    {
     "data": {
      "text/plain": [
       "(332780, 40)"
      ]
     },
     "execution_count": 16,
     "metadata": {},
     "output_type": "execute_result"
    }
   ],
   "source": [
    "topic_distributions = np.transpose(model.get_topics())\n",
    "topic_distributions = pd.DataFrame(topic_distributions, columns=np.arange(num_topics))\n",
    "np.shape(topic_distributions)"
   ]
  },
  {
   "cell_type": "code",
   "execution_count": 17,
   "id": "61f8ea1d",
   "metadata": {},
   "outputs": [],
   "source": [
    "pickle.dump(inv2id, open(f\"{intermediate_outputs_path}/inv2id.p\", \"wb\"))\n",
    "topic_distributions.to_csv(f\"{results_path}/topic_distributions.csv\")\n",
    "author_dists_matched.to_csv(f\"{results_path}/inventor_distributions.csv\")"
   ]
  },
  {
   "cell_type": "code",
   "execution_count": 18,
   "id": "bc415053",
   "metadata": {},
   "outputs": [
    {
     "data": {
      "text/plain": [
       "876535"
      ]
     },
     "execution_count": 18,
     "metadata": {},
     "output_type": "execute_result"
    }
   ],
   "source": [
    "len(corpus)"
   ]
  },
  {
   "cell_type": "code",
   "execution_count": null,
   "id": "4de1aed0",
   "metadata": {},
   "outputs": [],
   "source": []
  }
 ],
 "metadata": {
  "kernelspec": {
   "display_name": "Python 3 (ipykernel)",
   "language": "python",
   "name": "python3"
  },
  "language_info": {
   "codemirror_mode": {
    "name": "ipython",
    "version": 3
   },
   "file_extension": ".py",
   "mimetype": "text/x-python",
   "name": "python",
   "nbconvert_exporter": "python",
   "pygments_lexer": "ipython3",
   "version": "3.9.7"
  }
 },
 "nbformat": 4,
 "nbformat_minor": 5
}
